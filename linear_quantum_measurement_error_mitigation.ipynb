{
 "cells": [
  {
   "cell_type": "markdown",
   "metadata": {},
   "source": [
    "Based on IBM's qiskit tutorial on Measurement Error Mitigation:\n",
    "https://qiskit.org/textbook/ch-quantum-hardware/measurement-error-mitigation.html\n",
    "\n",
    "IBMQ:\n",
    "https://quantum-computing.ibm.com/"
   ]
  },
  {
   "cell_type": "code",
   "execution_count": null,
   "metadata": {},
   "outputs": [],
   "source": [
    "# Important global variables\n",
    "\n",
    "N_QUBITS = 5\n",
    "SHOTS = 8192\n",
    "\n",
    "# https://quantum-computing.ibm.com/  ->  Your profile  ->  'Copy token'\n",
    "# Note: should be a string\n",
    "IBMQ_TOKEN = \"\""
   ]
  },
  {
   "cell_type": "code",
   "execution_count": null,
   "metadata": {},
   "outputs": [],
   "source": [
    "# Import needed functions from qiskit\n",
    "\n",
    "from qiskit import QuantumCircuit\n",
    "\n",
    "from qiskit.providers.aer.noise import NoiseModel\n",
    "from qiskit.providers.aer.noise.errors import pauli_error, depolarizing_error\n",
    "\n",
    "from qiskit.providers.ibmq import least_busy\n",
    "\n",
    "from qiskit.visualization import plot_histogram\n",
    "from qiskit.tools.jupyter import *\n",
    "from qiskit.tools.monitor import job_monitor\n",
    "\n",
    "# Other dependencies are: numpy, scipy\n",
    "\n",
    "# 'magic function' which adds jupyter graphic interface for monitoring IBMQ jobs\n",
    "%qiskit_job_watcher"
   ]
  },
  {
   "cell_type": "code",
   "execution_count": null,
   "metadata": {},
   "outputs": [],
   "source": [
    "# Import and initialize own classes for handling IBMQ simulation and execution, as well as the error mitigation\n",
    "\n",
    "from IBMQHandler import IBMQHandler\n",
    "from MeasurementErrorMitigation import MeasurementErrorMitigation, build_vector, build_dict\n",
    "\n",
    "ibmq_handler = IBMQHandler(n_qubits=N_QUBITS,shots=SHOTS)\n",
    "measurement_error_mitigation = MeasurementErrorMitigation(n_qubits=N_QUBITS)"
   ]
  },
  {
   "cell_type": "code",
   "execution_count": null,
   "metadata": {},
   "outputs": [],
   "source": [
    "# authenticate against IBM Quantum Experience\n",
    "\n",
    "ibmq_handler.enable_account(IBMQ_TOKEN)"
   ]
  },
  {
   "cell_type": "markdown",
   "metadata": {},
   "source": [
    "<h2>Simulation</h2>"
   ]
  },
  {
   "cell_type": "code",
   "execution_count": null,
   "metadata": {},
   "outputs": [],
   "source": [
    "def create_noise_model(p: float) -> NoiseModel:\n",
    "    measurement_errors = pauli_error([('X',p/3),('Z',p/3),('Y',p/3),('I',1-p)])\n",
    "    \n",
    "    noise_model = NoiseModel()\n",
    "    \n",
    "    noise_model.add_all_qubit_quantum_error(measurement_errors,'measure')\n",
    "    \n",
    "    return noise_model\n",
    "\n",
    "noise_model = create_noise_model(0.05)"
   ]
  },
  {
   "cell_type": "code",
   "execution_count": null,
   "metadata": {},
   "outputs": [],
   "source": [
    "mitigation_circuit = measurement_error_mitigation.build_mitigation_circuit()\n",
    "\n",
    "job = ibmq_handler.simulate_quantum_circuit(circuit=mitigation_circuit, noise_model=noise_model)\n",
    "results_mitigation_circuit_sim = job.result().get_counts()\n",
    "\n",
    "print(results_mitigation_circuit_sim[0])"
   ]
  },
  {
   "cell_type": "code",
   "execution_count": null,
   "metadata": {},
   "outputs": [],
   "source": [
    "measurement_error_mitigation.build_error_mitigation_matrix(\n",
    "                                results_mitigation_circuit_sim)\n",
    "\n",
    "error_mitigation_matrix_simulated = measurement_error_mitigation.error_mitigation_matrix\n",
    "\n",
    "print(error_mitigation_matrix_simulated)"
   ]
  },
  {
   "cell_type": "code",
   "execution_count": null,
   "metadata": {},
   "outputs": [],
   "source": [
    "def build_test_circuit(n_qubits: int) -> QuantumCircuit:\n",
    "    circuit = QuantumCircuit(n_qubits)\n",
    "    \n",
    "    circuit.h(0)\n",
    "    circuit.cx(0,2)\n",
    "    \n",
    "    circuit.measure_all()\n",
    "    \n",
    "    return circuit\n",
    "\n",
    "test_circuit = build_test_circuit(N_QUBITS)\n",
    "\n",
    "test_circuit.draw()"
   ]
  },
  {
   "cell_type": "code",
   "execution_count": null,
   "metadata": {},
   "outputs": [],
   "source": [
    "# Simulate the test circuit for an ideal quantum computer, i.e. without noise:\n",
    "\n",
    "job = ibmq_handler.simulate_quantum_circuit(circuit=test_circuit)\n",
    "results_ideal_simulated = job.result().get_counts()\n",
    "\n",
    "# Then with out pauli noise model:\n",
    "\n",
    "job = ibmq_handler.simulate_quantum_circuit(circuit=test_circuit, noise_model=noise_model)\n",
    "results_noisy_simulated = job.result().get_counts()\n",
    "\n",
    "# Then at last, we use our error mitigation matrix to mitigate measurement errors in the noisy results\n",
    "\n",
    "job = measurement_error_mitigation.mitigate_errors(results_noisy_simulated)\n",
    "results_mitigated_simulated = job.result().get_counts()"
   ]
  },
  {
   "cell_type": "code",
   "execution_count": null,
   "metadata": {},
   "outputs": [],
   "source": [
    "# Plot the results\n",
    "\n",
    "plot_histogram([results_ideal_simulated, results_noisy_simulated, results_mitigated_simulated],\n",
    "               legend = [\"ideal\",\"noisy\",\"noisy, mitigated\"])"
   ]
  },
  {
   "cell_type": "markdown",
   "metadata": {},
   "source": [
    "<h2>Run on physical quantum computer</h2>\n",
    "\n",
    "First, find least busy physical IBMQ backend"
   ]
  },
  {
   "cell_type": "code",
   "execution_count": null,
   "metadata": {},
   "outputs": [],
   "source": [
    "ibmq_handler.find_least_busy()"
   ]
  },
  {
   "cell_type": "code",
   "execution_count": null,
   "metadata": {},
   "outputs": [],
   "source": [
    "mitigation_circuit = measurement_error_mitigation.build_mitigation_circuit()\n",
    "\n",
    "job = ibmq_handler.run_quantum_circuit_on_IBMQ(mitigation_circuit)"
   ]
  },
  {
   "cell_type": "code",
   "execution_count": null,
   "metadata": {},
   "outputs": [],
   "source": [
    "# extract the measurement result counts and build mitigation matrix\n",
    "\n",
    "results_mitigation_circuit_physical = job.result().get_counts()\n",
    "\n",
    "print(results_mitigation_circuit_physical[0])"
   ]
  },
  {
   "cell_type": "code",
   "execution_count": null,
   "metadata": {},
   "outputs": [],
   "source": [
    "# build the error mitigation matrix based on measurement results from the physical quantum computer\n",
    "\n",
    "measurement_error_mitigation.build_error_mitigation_matrix(results_mitigation_circuit_physical)\n",
    "\n",
    "mitigation_matrix_physical = measurement_error_mitigation.error_mitigation_matrix\n",
    "\n",
    "print(mitigation_matrix_physical)"
   ]
  },
  {
   "cell_type": "code",
   "execution_count": null,
   "metadata": {},
   "outputs": [],
   "source": [
    "# now, run the test circuit as given above\n",
    "\n",
    "test_circuit = build_test_circuit(N_QUBITS)\n",
    "\n",
    "job = ibmq_handler.run_quantum_circuit_on_IBMQ(test_circuit)\n",
    "\n",
    "test_circuit.draw()"
   ]
  },
  {
   "cell_type": "code",
   "execution_count": null,
   "metadata": {},
   "outputs": [],
   "source": [
    "results_test_circuit_physical = job.result().get_counts()\n",
    "\n",
    "results_test_circuit_mitigated = measurement_error_mitigation.mitigate_errors(results_test_circuit_physical)\n",
    "\n",
    "results_test_circuit_ideal = {\"00000\": int(SHOTS / 2), \"00100\": int(SHOTS / 2)}"
   ]
  },
  {
   "cell_type": "code",
   "execution_count": null,
   "metadata": {},
   "outputs": [],
   "source": [
    "plot_histogram( [results_test_circuit_ideal,\n",
    "                 results_test_circuit_physical,\n",
    "                 results_test_circuit_mitigated],\n",
    "                legend = [\"ideal results\", \"mmt results\", \"mmt results, mitigated\"])"
   ]
  },
  {
   "cell_type": "code",
   "execution_count": null,
   "metadata": {},
   "outputs": [],
   "source": []
  }
 ],
 "metadata": {
  "kernelspec": {
   "display_name": "Python 3",
   "language": "python",
   "name": "python3"
  },
  "language_info": {
   "codemirror_mode": {
    "name": "ipython",
    "version": 3
   },
   "file_extension": ".py",
   "mimetype": "text/x-python",
   "name": "python",
   "nbconvert_exporter": "python",
   "pygments_lexer": "ipython3",
   "version": "3.8.3"
  }
 },
 "nbformat": 4,
 "nbformat_minor": 4
}
