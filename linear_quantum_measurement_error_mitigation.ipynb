{
 "cells": [
  {
   "cell_type": "markdown",
   "metadata": {},
   "source": [
    "<h1> Linear Quantum Measurement Error Mitigation </h1>\n",
    "\n",
    "Based on IBM's qiskit tutorial on Measurement Error Mitigation:\n",
    "https://qiskit.org/textbook/ch-quantum-hardware/measurement-error-mitigation.html\n",
    "\n",
    "IBM Quantum Experience:\n",
    "https://quantum-computing.ibm.com/\n",
    "\n",
    "Qiskit documentation:\n",
    "https://qiskit.org/documentation/"
   ]
  },
  {
   "cell_type": "code",
   "execution_count": null,
   "metadata": {},
   "outputs": [],
   "source": [
    "# Important global variables\n",
    "\n",
    "N_QUBITS = 5\n",
    "SHOTS = 8192   # IBMQ's max number of shots per job is 8192\n",
    "\n",
    "# https://quantum-computing.ibm.com/  ->  Your profile  ->  'Copy token'\n",
    "# Note: should be a string\n",
    "IBMQ_TOKEN = \"\""
   ]
  },
  {
   "cell_type": "code",
   "execution_count": null,
   "metadata": {},
   "outputs": [],
   "source": [
    "# Import needed functions from qiskit\n",
    "\n",
    "from qiskit import QuantumCircuit\n",
    "\n",
    "from qiskit.providers.aer.noise import NoiseModel\n",
    "from qiskit.providers.aer.noise.errors import pauli_error, depolarizing_error\n",
    "\n",
    "from qiskit.providers.ibmq import least_busy\n",
    "\n",
    "from qiskit.visualization import plot_histogram\n",
    "from qiskit.tools.jupyter import *\n",
    "from qiskit.tools.monitor import job_monitor\n",
    "\n",
    "import matplotlib.pyplot as plt\n",
    "\n",
    "# Other dependencies are: numpy, scipy\n",
    "\n",
    "# 'magic function' which adds jupyter graphic interface for monitoring IBMQ jobs\n",
    "%qiskit_job_watcher"
   ]
  },
  {
   "cell_type": "code",
   "execution_count": null,
   "metadata": {},
   "outputs": [],
   "source": [
    "# Import and initialize own classes for handling IBMQ simulation and execution, as well as the error mitigation\n",
    "\n",
    "from IBMQHandler import IBMQHandler\n",
    "from MeasurementErrorMitigation import MeasurementErrorMitigation, build_vector, build_dict\n",
    "\n",
    "ibmq_handler = IBMQHandler(n_qubits=N_QUBITS,shots=SHOTS)\n",
    "measurement_error_mitigation = MeasurementErrorMitigation(n_qubits=N_QUBITS)"
   ]
  },
  {
   "cell_type": "code",
   "execution_count": null,
   "metadata": {},
   "outputs": [],
   "source": [
    "# authenticate against IBM Quantum Experience\n",
    "\n",
    "ibmq_handler.enable_account(IBMQ_TOKEN)"
   ]
  },
  {
   "cell_type": "code",
   "execution_count": null,
   "metadata": {},
   "outputs": [],
   "source": [
    "# To test the quantum error mitigation at the end, we construct some test circuits and mitigate errors in the output of these.\n",
    "# Computational basis states: |x_4 x_3 x_2 x_1 x_0> where x_i in {0,1}. Write states only up to normalization.\n",
    "\n",
    "# Test circuit 1\n",
    "# ideal output -> the quantum state: |ksi> = |00000> + |00101>\n",
    "def build_test_circuit(n_qubits: int) -> QuantumCircuit:\n",
    "    circuit = QuantumCircuit(n_qubits)\n",
    "    \n",
    "    circuit.h(0)\n",
    "    circuit.cx(0,2)\n",
    "    \n",
    "    circuit.measure_all()\n",
    "    \n",
    "    return circuit\n",
    "\n",
    "test_circuit = build_test_circuit(N_QUBITS)\n",
    "\n",
    "test_circuit.draw()\n",
    "\n",
    "# Test circuit 2\n",
    "# ideal output -> the quantum state: |ksi> = |00000> + |11111>\n",
    "def build_test_circuit_2(n_qubits: int) -> QuantumCircuit:\n",
    "    circuit = QuantumCircuit(n_qubits)\n",
    "    \n",
    "    circuit.h(0)\n",
    "    for i in range(1,n_qubits):\n",
    "        circuit.cx(0,i)\n",
    "        \n",
    "    circuit.measure_all()\n",
    "    \n",
    "    return circuit\n",
    "\n",
    "# Test circuit 3\n",
    "# ideal output -> |cat_5>, the equal superposition of all computation basis states\n",
    "def build_test_circuit_cat(n_qubits: int) -> QuantumCircuit:\n",
    "    circuit = QuantumCircuit(n_qubits)\n",
    "    \n",
    "    for i in range(n_qubits):\n",
    "        circuit.h(i)\n",
    "    \n",
    "    circuit.measure_all()\n",
    "    \n",
    "    return circuit"
   ]
  },
  {
   "cell_type": "markdown",
   "metadata": {},
   "source": [
    "<h2>Error mitigation on a simulated circuit</h2>\n",
    "\n",
    "In this section we define a simple error model, and then do measurement error mitigation on a simulated quantum computer using said error model."
   ]
  },
  {
   "cell_type": "code",
   "execution_count": null,
   "metadata": {},
   "outputs": [],
   "source": [
    "# We define a noise model.\n",
    "\n",
    "# The space of single-qubits unitaries is spanned by the Pauli Group {I, X, Z, Y} on each qubit, Y = XZ.\n",
    "# Thus a natural starting point.\n",
    "\n",
    "def create_noise_model(p: float) -> NoiseModel:\n",
    "    measurement_errors = pauli_error([('X',p/3),('Z',p/3),('Y',p/3),('I',1-p)])\n",
    "    \n",
    "    noise_model = NoiseModel()\n",
    "    \n",
    "    noise_model.add_all_qubit_quantum_error(measurement_errors,'measure')\n",
    "    \n",
    "    return noise_model\n",
    "\n",
    "noise_model = create_noise_model(0.05)"
   ]
  },
  {
   "cell_type": "code",
   "execution_count": null,
   "metadata": {},
   "outputs": [],
   "source": [
    "# Build the mitigation circuits, consisting of 2**n_qubits circuits each constructing one of\n",
    "# the 2**n_qubits computational basis states.\n",
    "\n",
    "mitigation_circuit = measurement_error_mitigation.build_mitigation_circuit()\n",
    "\n",
    "job = ibmq_handler.simulate_quantum_circuit(circuit=mitigation_circuit, noise_model=noise_model)\n",
    "results_mitigation_circuit_sim = job.result().get_counts()\n",
    "\n",
    "print(results_mitigation_circuit_sim[0])"
   ]
  },
  {
   "cell_type": "code",
   "execution_count": null,
   "metadata": {},
   "outputs": [],
   "source": [
    "# Build the 2**n_qubits x 2**n_qubits error mitigation matrix\n",
    "\n",
    "measurement_error_mitigation.build_error_mitigation_matrix(\n",
    "                                results_mitigation_circuit_sim)\n",
    "\n",
    "error_mitigation_matrix_simulated = measurement_error_mitigation.error_mitigation_matrix\n",
    "\n",
    "print(error_mitigation_matrix_simulated)"
   ]
  },
  {
   "cell_type": "code",
   "execution_count": null,
   "metadata": {},
   "outputs": [],
   "source": [
    "# Simulate the test circuit for an ideal quantum computer, i.e. without noise:\n",
    "\n",
    "job = ibmq_handler.simulate_quantum_circuit(circuit=test_circuit)\n",
    "results_ideal_simulated = job.result().get_counts()\n",
    "\n",
    "# Then with out pauli noise model:\n",
    "\n",
    "job = ibmq_handler.simulate_quantum_circuit(circuit=test_circuit, noise_model=noise_model)\n",
    "results_noisy_simulated = job.result().get_counts()\n",
    "\n",
    "# Then at last, we use our error mitigation matrix to mitigate measurement errors in the noisy results\n",
    "\n",
    "job = measurement_error_mitigation.mitigate_errors(results_noisy_simulated)\n",
    "results_mitigated_simulated = job.result().get_counts()"
   ]
  },
  {
   "cell_type": "code",
   "execution_count": null,
   "metadata": {},
   "outputs": [],
   "source": [
    "# Plot the results\n",
    "\n",
    "plot_histogram([results_ideal_simulated, results_noisy_simulated, results_mitigated_simulated],\n",
    "               legend = [\"ideal\",\"noisy\",\"noisy, mitigated\"])"
   ]
  },
  {
   "cell_type": "markdown",
   "metadata": {},
   "source": [
    "<h2>Error Mitigation on a physical quantum computer</h2>\n",
    "\n",
    "Here, we do measurement error mitigation on one of IBM's openly available quantum computers."
   ]
  },
  {
   "cell_type": "code",
   "execution_count": null,
   "metadata": {},
   "outputs": [],
   "source": [
    "# Find the currently least busy IBMQ backend\n",
    "\n",
    "ibmq_handler.find_least_busy()"
   ]
  },
  {
   "cell_type": "code",
   "execution_count": null,
   "metadata": {},
   "outputs": [],
   "source": [
    "# Or alternatively set a specific, e.g. 'ibmq_london'\n",
    "\n",
    "BACKEND_NAME = \"ibmq_london\"\n",
    "\n",
    "ibmq_handler.set_specific_backend(BACKEND_NAME)"
   ]
  },
  {
   "cell_type": "code",
   "execution_count": null,
   "metadata": {},
   "outputs": [],
   "source": [
    "# run the mitigation circuit on a physical quantum computer\n",
    "\n",
    "mitigation_circuit = measurement_error_mitigation.build_mitigation_circuit()\n",
    "\n",
    "job = ibmq_handler.run_quantum_circuit_on_IBMQ(mitigation_circuit)"
   ]
  },
  {
   "cell_type": "code",
   "execution_count": null,
   "metadata": {},
   "outputs": [],
   "source": [
    "\n",
    "# or alternatively retrieve results from a previously run job\n",
    "\n",
    "job_id = \"\" # job_id as a string\n",
    "\n",
    "job = ibmq_handler.retrieve_result(job_id)"
   ]
  },
  {
   "cell_type": "code",
   "execution_count": null,
   "metadata": {},
   "outputs": [],
   "source": [
    "# extract the measurement result counts and build mitigation matrix\n",
    "\n",
    "results_mitigation_circuit_physical = job.result().get_counts()\n",
    "\n",
    "print(results_mitigation_circuit_physical[0])"
   ]
  },
  {
   "cell_type": "code",
   "execution_count": null,
   "metadata": {},
   "outputs": [],
   "source": [
    "# build the error mitigation matrix based on measurement results from the physical quantum computer\n",
    "\n",
    "measurement_error_mitigation.build_error_mitigation_matrix(results_mitigation_circuit_physical)\n",
    "\n",
    "mitigation_matrix_physical = measurement_error_mitigation.error_mitigation_matrix\n",
    "\n",
    "print(mitigation_matrix_physical)"
   ]
  },
  {
   "cell_type": "markdown",
   "metadata": {},
   "source": [
    "Run test circuit 1 with error mitigation\n",
    "\n",
    "Ideal output: $|ksi> = |00000> +\\, |00101>$"
   ]
  },
  {
   "cell_type": "code",
   "execution_count": null,
   "metadata": {},
   "outputs": [],
   "source": [
    "test_circuit = build_test_circuit(N_QUBITS)\n",
    "\n",
    "job = ibmq_handler.run_quantum_circuit_on_IBMQ(test_circuit)\n",
    "\n",
    "test_circuit.draw()"
   ]
  },
  {
   "cell_type": "code",
   "execution_count": null,
   "metadata": {},
   "outputs": [],
   "source": [
    "# extracting measurement result counts\n",
    "\n",
    "results_test_circuit_physical = job.result().get_counts()\n",
    "\n",
    "results_test_circuit_mitigated = measurement_error_mitigation.mitigate_errors(results_test_circuit_physical)\n",
    "\n",
    "results_test_circuit_ideal = {\"00000\": int(SHOTS / 2), \"00101\": int(SHOTS / 2)}"
   ]
  },
  {
   "cell_type": "code",
   "execution_count": null,
   "metadata": {},
   "outputs": [],
   "source": [
    "plot_histogram( [results_test_circuit_ideal,\n",
    "                 results_test_circuit_physical,\n",
    "                 results_test_circuit_mitigated],\n",
    "                 title = \"Measurement error mitigation done on IBMQ backend: {0}\"\n",
    "                       .format(ibmq_handler.physical_backend.name()),\n",
    "                 legend = [\"ideal results\", \"mmt results\", \"mmt results, mitigated\"],\n",
    "                 bar_labels=False)"
   ]
  },
  {
   "cell_type": "code",
   "execution_count": null,
   "metadata": {},
   "outputs": [],
   "source": [
    "print(\"State |00000>\")\n",
    "print(\"True prob:\\t\",results_test_circuit_ideal[\"00000\"]/SHOTS)\n",
    "print(\"Measured prob:\\t\",results_test_circuit_physical[\"00000\"]/SHOTS)\n",
    "print(\"Mitigated prob:\\t\",results_test_circuit_mitigated[\"00000\"]/SHOTS,\"\\n-\")\n",
    "\n",
    "print(\"State |00101>\")\n",
    "print(\"True prob:\\t\",results_test_circuit_ideal[\"00101\"]/SHOTS)\n",
    "print(\"Measured prob:\\t\",results_test_circuit_physical[\"00101\"]/SHOTS)\n",
    "print(\"Mitigated prob:\\t\",results_test_circuit_mitigated[\"00101\"]/SHOTS)"
   ]
  },
  {
   "cell_type": "markdown",
   "metadata": {},
   "source": [
    "Run test circuit 2 with error mitigation\n",
    "\n",
    "Ideal output: $|ksi> = |00000> +\\, |11111>$"
   ]
  },
  {
   "cell_type": "code",
   "execution_count": null,
   "metadata": {},
   "outputs": [],
   "source": [
    "test_circuit_2 = build_test_circuit_2(N_QUBITS)\n",
    "\n",
    "job = ibmq_handler.run_quantum_circuit_on_IBMQ(test_circuit_2)\n",
    "\n",
    "test_circuit_2.draw()"
   ]
  },
  {
   "cell_type": "code",
   "execution_count": null,
   "metadata": {},
   "outputs": [],
   "source": [
    "# extracting measurement result counts\n",
    "\n",
    "results_test_circuit_physical_2 = job.result().get_counts()\n",
    "\n",
    "results_test_circuit_mitigated_2 = measurement_error_mitigation.mitigate_errors(results_test_circuit_physical_2)\n",
    "\n",
    "results_test_circuit_ideal_2 = {\"00000\": int(SHOTS / 2), \"11111\": int(SHOTS / 2)}"
   ]
  },
  {
   "cell_type": "code",
   "execution_count": null,
   "metadata": {},
   "outputs": [],
   "source": [
    "plot_histogram( [results_test_circuit_ideal_2,\n",
    "                 results_test_circuit_physical_2,\n",
    "                 results_test_circuit_mitigated_2],\n",
    "                 title = \"Measurement error mitigation done on IBMQ backend: {0}\"\n",
    "                       .format(ibmq_handler.physical_backend.name()),\n",
    "                 legend = [\"ideal results\", \"mmt results\", \"mmt results, mitigated\"],\n",
    "                 bar_labels=False)"
   ]
  },
  {
   "cell_type": "markdown",
   "metadata": {},
   "source": [
    "Run test circuit 3 with error mitigation\n",
    "\n",
    "Ideal output: $|ksi>\\, =\\, |cat_{5}>\\, =\\, \\sum_{x \\in \\{0,1\\}^5} |x>$"
   ]
  },
  {
   "cell_type": "code",
   "execution_count": null,
   "metadata": {},
   "outputs": [],
   "source": [
    "test_circuit_3 = build_test_circuit_cat(N_QUBITS)\n",
    "\n",
    "job = ibmq_handler.run_quantum_circuit_on_IBMQ(test_circuit_3)\n",
    "\n",
    "test_circuit_3.draw()"
   ]
  },
  {
   "cell_type": "code",
   "execution_count": null,
   "metadata": {},
   "outputs": [],
   "source": [
    "# extracting measurement result counts\n",
    "\n",
    "results_test_circuit_physical_3 = job.result().get_counts()\n",
    "\n",
    "results_test_circuit_mitigated_3 = measurement_error_mitigation.mitigate_errors(results_test_circuit_physical_3)\n",
    "\n",
    "results_test_circuit_ideal_3 = {}\n",
    "for i in range(2**N_QUBITS):\n",
    "    bit_string = '{0:0{1}b}'.format(i, N_QUBITS)\n",
    "    results_test_circuit_ideal_3[bit_string] = int(SHOTS / (2**N_QUBITS))"
   ]
  },
  {
   "cell_type": "code",
   "execution_count": null,
   "metadata": {},
   "outputs": [],
   "source": [
    "plot_histogram( [results_test_circuit_ideal_3,\n",
    "                 results_test_circuit_physical_3,\n",
    "                 results_test_circuit_mitigated_3 ],\n",
    "                 title = \"Measurement error mitigation done on IBMQ backend: {0}\"\n",
    "                       .format(ibmq_handler.physical_backend.name()),\n",
    "                 legend = [\"ideal results\", \"mmt results\", \"mmt results, mitigated\"],\n",
    "                 bar_labels=False)"
   ]
  }
 ],
 "metadata": {
  "kernelspec": {
   "display_name": "Python 3",
   "language": "python",
   "name": "python3"
  },
  "language_info": {
   "codemirror_mode": {
    "name": "ipython",
    "version": 3
   },
   "file_extension": ".py",
   "mimetype": "text/x-python",
   "name": "python",
   "nbconvert_exporter": "python",
   "pygments_lexer": "ipython3",
   "version": "3.8.3"
  }
 },
 "nbformat": 4,
 "nbformat_minor": 4
}
